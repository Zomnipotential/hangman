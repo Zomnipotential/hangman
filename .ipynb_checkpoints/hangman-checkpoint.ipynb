{
 "cells": [
  {
   "cell_type": "code",
   "execution_count": 25,
   "id": "10817449",
   "metadata": {},
   "outputs": [
    {
     "name": "stdout",
     "output_type": "stream",
     "text": [
      "starting\n",
      "The word I have chosen for you is 5 letters long\n"
     ]
    },
    {
     "ename": "NameError",
     "evalue": "name 'letter' is not defined",
     "output_type": "error",
     "traceback": [
      "\u001b[0;31m---------------------------------------------------------------------------\u001b[0m",
      "\u001b[0;31mNameError\u001b[0m                                 Traceback (most recent call last)",
      "Cell \u001b[0;32mIn[25], line 121\u001b[0m\n\u001b[1;32m    119\u001b[0m chosen_word \u001b[38;5;241m=\u001b[39m random_word()\n\u001b[1;32m    120\u001b[0m \u001b[38;5;28;01mtry\u001b[39;00m:\n\u001b[0;32m--> 121\u001b[0m     error \u001b[38;5;241m=\u001b[39m \u001b[43mstart_game\u001b[49m\u001b[43m(\u001b[49m\u001b[43m)\u001b[49m\n\u001b[1;32m    122\u001b[0m \u001b[38;5;28;01mexcept\u001b[39;00m MaxAttempt \u001b[38;5;28;01mas\u001b[39;00m ma:\n\u001b[1;32m    123\u001b[0m     \u001b[38;5;28mprint\u001b[39m(ma)\n",
      "Cell \u001b[0;32mIn[25], line 79\u001b[0m, in \u001b[0;36mstart_game\u001b[0;34m()\u001b[0m\n\u001b[1;32m     77\u001b[0m \u001b[38;5;28;01mdef\u001b[39;00m \u001b[38;5;21mstart_game\u001b[39m():\n\u001b[1;32m     78\u001b[0m     \u001b[38;5;28mprint\u001b[39m(\u001b[38;5;124mf\u001b[39m\u001b[38;5;124m'\u001b[39m\u001b[38;5;124mThe word I have chosen for you is \u001b[39m\u001b[38;5;132;01m{\u001b[39;00m\u001b[38;5;28mlen\u001b[39m(chosen_word)\u001b[38;5;132;01m}\u001b[39;00m\u001b[38;5;124m letters long\u001b[39m\u001b[38;5;124m'\u001b[39m)\n\u001b[0;32m---> 79\u001b[0m     \u001b[43mletter\u001b[49m\n\u001b[1;32m     80\u001b[0m     guessed \u001b[38;5;241m=\u001b[39m \u001b[38;5;124m'\u001b[39m\u001b[38;5;124m'\u001b[39m\n\u001b[1;32m     81\u001b[0m     found \u001b[38;5;241m=\u001b[39m \u001b[38;5;124m'\u001b[39m\u001b[38;5;124m'\u001b[39m\n",
      "\u001b[0;31mNameError\u001b[0m: name 'letter' is not defined"
     ]
    }
   ],
   "source": [
    "'''\n",
    "Skapa en version av det klassiska spelet Hangman.\n",
    "Datorn väljer ett slumpmässigt ord från en fördefinierad lista av ord.\n",
    "Spelet visar hur många bokstäver ordet består av, men inte vilka bokstäver som är rätt.\n",
    "Spelaren ska gissa en bokstav i taget, och datorn ger feedback om bokstaven finns i ordet eller inte.\n",
    "Spelet fortsätter tills spelaren har gissat hela ordet eller har gjort tillräckligt många felaktiga gissningar.\n",
    "'''\n",
    "import pandas as pd\n",
    "import os\n",
    "import time\n",
    "import random\n",
    "\n",
    "class WrongType():\n",
    "\n",
    "    def __init__(self, letter, *args):\n",
    "        super().__init__(args)\n",
    "        self.letter = letter\n",
    "        print(f'{letter} is sent to {__class__.__name__}')\n",
    "\n",
    "    def __str__(self):\n",
    "        return f\"WARNING! The '{self.letter}' is not a letter\"\n",
    "        \n",
    "class LengthError():\n",
    "\n",
    "    def __init__(self, letter, *args):\n",
    "        super().__init__(args)\n",
    "        self.letter = letter\n",
    "        print(f'{self.letter} is sent to {__class__.__name__}')\n",
    "\n",
    "    def __str__(self):\n",
    "        return f\"WARNING! The '{self.letter}' you typed has too many letters\"\n",
    "\n",
    "class MaxAttempt(Exception):\n",
    "\n",
    "    def __init__(self, max_nr_attempt, *args):\n",
    "        super().__init__(args)\n",
    "        self.max_nr_attempt = max_nr_attempt\n",
    "        print(f'{self.letter} is sent to {__class__.__name__}')\n",
    "\n",
    "    def __str__(self):\n",
    "        return f\"WARNING! You tried '{self.max_nr_attempt}' times and you failed to guess the correct word\"\n",
    "\n",
    "# Here we choose one word from a database that contains over 3,000,000 words\n",
    "# from movie lines\n",
    "def random_word():\n",
    "    csv_url = \"./db-1_wordle/wordle_random.csv\"\n",
    "    with open(csv_url, 'r') as csvfile:\n",
    "        csv_text = csvfile.read().splitlines()\n",
    "        chosen_row = csv_text[random.randint(0,len(csv_text)-1)].split(',')\n",
    "        return chosen_row[0]\n",
    "\n",
    "# Here we check if the feed is correct for one single input\n",
    "# Return back the result to the calling method\n",
    "def get_next():\n",
    "    index = 0\n",
    "    while True:\n",
    "        index += 1\n",
    "        letter = input('Enter a letter: ')\n",
    "        if not letter.isalpha():\n",
    "            print(f\"WARNING! The '{self.letter}' is not a letter\")\n",
    "            return False\n",
    "        elif not len(letter) == 1:\n",
    "            print(f\"WARNING! The '{self.letter}' you typed has too many letters\")\n",
    "            return False\n",
    "        else:\n",
    "            return letter\n",
    "'''\n",
    " if a letter is entered repeatedly, warn the player of it and do not count \n",
    "towards MAX\n",
    "\n",
    "inactivity for more than 1 minute should be warned and after a more minute\n",
    "the game should be ended, and the current result shown\n",
    "    '''        \n",
    "\n",
    "# As long as the MAX number of attempts has not been reached, continue accepting\n",
    "# letters, check correctness of the feed and handle the issues that may arise\n",
    "def play_game():\n",
    "    print(f'The word I have chosen for you is {len(chosen_word)} letters long')\n",
    "    letter = ''\n",
    "    guessed = ''\n",
    "    found = ''\n",
    "    MAX = 13\n",
    "    index = 0\n",
    "    # If something is wrong with the input, ignore, increase index and proceed\n",
    "    # If not, match the letter with the letters in the word and let the player\n",
    "    # know if the guess is qualified or not\n",
    "    while True:\n",
    "        result = get_next()\n",
    "        index += 1\n",
    "        if not result:\n",
    "            pass\n",
    "        else:\n",
    "            if letter in guessed_letters:\n",
    "                guessed += letter\n",
    "                print(f\"You've already named '{letter}', and I told you it's not there\")\n",
    "            else:\n",
    "                if letter in found:\n",
    "                    print(f\"Yes, there is also a '{letter}' in my word\")\n",
    "                    guessed_word = output(\"Would you like to guess what the word is?\")\n",
    "                    # continue here ...\n",
    "        if index > MAX:\n",
    "            raise MaxAttempt(MAX)\n",
    "        \n",
    "'''\n",
    "add antother function and input here to ask for the word after a letter was successfully\n",
    "chosen by the player\n",
    "\n",
    "in this new window, if a dash is entered, it means the player does not want to\n",
    "continue. print the current results and stop the game\n",
    "'''\n",
    "\n",
    "#    print(type(numbers1),'    ',type(player_word)):\n",
    "#    result = ''.join(list(map(lambda x, y: str(x) if x==y else '*', player_word, chosen_word)))\n",
    "#    print(result)\n",
    "\n",
    "if __name__ == '__main__':\n",
    "    print('starting')\n",
    "    global chosen_word\n",
    "    chosen_word = random_word()\n",
    "    try:\n",
    "        error = play_game()\n",
    "    except MaxAttempt as ma:\n",
    "        print(ma)"
   ]
  },
  {
   "cell_type": "code",
   "execution_count": null,
   "id": "afc4f456",
   "metadata": {},
   "outputs": [],
   "source": [
    "control = open(output_address, 'r')\n",
    "print(control.read(10))\n",
    "control.close()"
   ]
  },
  {
   "cell_type": "code",
   "execution_count": null,
   "id": "6f6ce91d",
   "metadata": {},
   "outputs": [],
   "source": [
    "numbers1 = 'siluett'\n",
    "numbers2 = 'minions'\n",
    "\n",
    "result = ''.join(list(map(lambda x, y: str(x) if x==y else '*', numbers1, numbers2)))\n",
    "print(result)"
   ]
  },
  {
   "cell_type": "code",
   "execution_count": null,
   "id": "cf5a181b",
   "metadata": {},
   "outputs": [],
   "source": [
    "type('k')"
   ]
  },
  {
   "cell_type": "code",
   "execution_count": null,
   "id": "30d34700",
   "metadata": {},
   "outputs": [],
   "source": [
    "class FahrenheitError(Exception):\n",
    "    min_f = 32\n",
    "    max_f = 212\n",
    "\n",
    "    def __init__(self, f, *args):\n",
    "        super().__init__(args)\n",
    "        self.f = f\n",
    "\n",
    "    def __str__(self):\n",
    "        return f'The {self.f} is not in a valid range {self.min_f, self.max_f}'\n",
    "\n",
    "def fahrenheit_to_celsius(f: float) -> float:\n",
    "    if f < FahrenheitError.min_f or f > FahrenheitError.max_f:\n",
    "        raise FahrenheitError(f)\n",
    "\n",
    "    return (f - 32) * 5 / 9\n",
    "\n",
    "if __name__ == '__main__':\n",
    "    f = input('Enter a temperature in Fahrenheit:')\n",
    "    try:\n",
    "        f = float(f)\n",
    "    except ValueError as ex:\n",
    "        print(ex)\n",
    "    else:\n",
    "        try:\n",
    "            c = fahrenheit_to_celsius(float(f))\n",
    "        except FahrenheitError as ex:\n",
    "            print(ex)\n",
    "        else:\n",
    "            print(f'{f} Fahrenheit = {c:.4f} Celsius')"
   ]
  },
  {
   "cell_type": "code",
   "execution_count": null,
   "id": "c3e47c8b",
   "metadata": {},
   "outputs": [],
   "source": [
    "x = [1, 2, 3, 4]\n",
    "\n",
    "try:\n",
    "    user_input = int(input(\"Guess a position ==> \"))\n",
    "    print(x[user_input])\n",
    "except Exception as e:\n",
    "    if e.__class__.__name__ == 'IndexError':\n",
    "        print(f\"You are only allowed to guess between {-1*len(x)} and {len(x) - 1}\")\n",
    "    elif e.__class__.__name__ == 'ValueError':\n",
    "        print(\"You are only allowed to guess integers\")\n",
    "    else:\n",
    "        print(e)"
   ]
  },
  {
   "cell_type": "code",
   "execution_count": null,
   "id": "db78527a",
   "metadata": {},
   "outputs": [],
   "source": [
    "print(type('e'))"
   ]
  },
  {
   "cell_type": "code",
   "execution_count": null,
   "id": "fd68d1b6",
   "metadata": {},
   "outputs": [],
   "source": [
    "''.isalpha()"
   ]
  },
  {
   "cell_type": "code",
   "execution_count": null,
   "id": "f9aed833",
   "metadata": {},
   "outputs": [],
   "source": [
    "'233'.isnumeric()"
   ]
  },
  {
   "cell_type": "code",
   "execution_count": 22,
   "id": "3f511958",
   "metadata": {},
   "outputs": [
    {
     "name": "stdout",
     "output_type": "stream",
     "text": [
      "1\n"
     ]
    }
   ],
   "source": [
    "x = 'inside'.find('n')\n",
    "print(x)"
   ]
  },
  {
   "cell_type": "code",
   "execution_count": null,
   "id": "bbcbc19d",
   "metadata": {},
   "outputs": [],
   "source": []
  }
 ],
 "metadata": {
  "kernelspec": {
   "display_name": "Python 3 (ipykernel)",
   "language": "python",
   "name": "python3"
  },
  "language_info": {
   "codemirror_mode": {
    "name": "ipython",
    "version": 3
   },
   "file_extension": ".py",
   "mimetype": "text/x-python",
   "name": "python",
   "nbconvert_exporter": "python",
   "pygments_lexer": "ipython3",
   "version": "3.11.2"
  }
 },
 "nbformat": 4,
 "nbformat_minor": 5
}
